{
 "cells": [
  {
   "cell_type": "code",
   "execution_count": 26,
   "metadata": {
    "collapsed": false
   },
   "outputs": [
    {
     "name": "stdout",
     "output_type": "stream",
     "text": [
      " This function is now using the global x!\n",
      "Because of global x is:  50\n",
      "Ran func(), changed global x to 2\n",
      "Value of x (outside of func()) is:  2\n"
     ]
    }
   ],
   "source": [
    "xx = 50\n",
    "\n",
    "def func():\n",
    "    global xx\n",
    "    print 'This function is now using the global x!'\n",
    "    print 'Because of global x is: ', xx\n",
    "    xx = 2\n",
    "    print 'Ran func(), changed global x to', xx\n",
    "\n",
    "#print 'Before calling func(), x is: ', xx\n",
    "func()\n",
    "print 'Value of x (outside of func()) is: ', xx"
   ]
  },
  {
   "cell_type": "code",
   "execution_count": 23,
   "metadata": {
    "collapsed": false
   },
   "outputs": [
    {
     "name": "stdout",
     "output_type": "stream",
     "text": [
      "This is a global name\n"
     ]
    }
   ],
   "source": [
    "print name"
   ]
  },
  {
   "cell_type": "code",
   "execution_count": 19,
   "metadata": {
    "collapsed": false
   },
   "outputs": [
    {
     "data": {
      "text/plain": [
       "{'In': ['',\n",
       "  u'x = 25\\n\\ndef printer():\\n    x = 50\\n    return x\\n\\nprint x\\nprint printer()',\n",
       "  u'x = 25\\n\\ndef printer():\\n    print x\\n    x = 50\\n    return x\\n\\nprint x\\nprint printer()',\n",
       "  u'x = 25\\n\\ndef printer():\\n    print global.x\\n    x = 50\\n    return x\\n\\nprint x\\nprint printer()',\n",
       "  u'x = 25\\n\\ndef printer():\\n    print global(x)\\n    x = 50\\n    return x\\n\\nprint x\\nprint printer()',\n",
       "  u'x = 25\\n\\ndef printer():\\n    print globals.x\\n    x = 50\\n    return x\\n\\nprint x\\nprint printer()',\n",
       "  u'x = 25\\n\\ndef printer():\\n    x = 50\\n    return x\\n\\nprint x\\nprint printer()',\n",
       "  u\"name = 'This is a global name'\\n\\ndef greet():\\n    # Enclosing function\\n    name = 'Sammy'\\n    \\n    def hello():\\n        print 'Hello '+name\\n    \\n    hello()\\n\\ngreet()\",\n",
       "  u\"name = 'This is a global name'\\n\\ndef greet():\\n    # Enclosing function\\n    name = 'Test'\\n    \\n    def hello():\\n        print 'Hello '+name\\n    \\n    hello()\\n\\ngreet()\",\n",
       "  u'print name',\n",
       "  u\"name = 'This is a global name'\\n\\ndef greet():\\n    # Enclosing function\\n    # name = 'Test'\\n    \\n    def hello():\\n        print 'Hello '+name\\n    \\n    hello()\\n\\ngreet()\",\n",
       "  u'print name',\n",
       "  u\"name = 'This is a global name'\\n\\ndef greet():\\n    # Enclosing function\\n    name = 'Test'\\n    \\n    def hello():\\n        print 'Hello '+name\\n    \\n    hello()\\n\\ngreet()\",\n",
       "  u\"name = 'This is a global name'\\n\\ndef greet():\\n    # Enclosing function\\n    name = 'Test'\\n    \\n    def hello():\\n        print 'Hello '+name\\n    \\n    hello()\\n\\ngreet()\",\n",
       "  u\"name = 'This is a global name'\\n\\ndef greet():\\n    # Enclosing function\\n    #name = 'Test'\\n    \\n    def hello():\\n        print 'Hello '+name\\n    \\n    hello()\\n\\ngreet()\",\n",
       "  u\"name = 'This is a global name'\\n\\ndef greet():\\n    # Enclosing function\\n    name = 'Test'\\n    \\n    def hello():\\n        print 'Hello '+name\\n    \\n    hello()\\n\\ngreet()\",\n",
       "  u\"name = 'This is a global name'\\n\\ndef greet():\\n    # Enclosing function\\n    print name\\n    name = 'Test'\\n    \\n    def hello():\\n        print 'Hello '+name\\n    \\n    hello()\\n\\ngreet()\",\n",
       "  u\"\\nx = 50\\n\\ndef func(x):\\n    print 'x is', x\\n    x = 2\\n    print 'Changed local x to', x\\n\\nfunc(x)\\nprint 'x is still', x\",\n",
       "  u\"x = 50\\n\\ndef func():\\n    global x\\n    print 'This function is now using the global x!'\\n    print 'Because of global x is: ', x\\n    x = 2\\n    print 'Ran func(), changed global x to', x\\n\\nprint 'Before calling func(), x is: ', x\\nfunc()\\nprint 'Value of x (outside of func()) is: ', x\",\n",
       "  u'globals()'],\n",
       " 'Out': {},\n",
       " '_': '',\n",
       " '__': '',\n",
       " '___': '',\n",
       " '__builtin__': <module '__builtin__' (built-in)>,\n",
       " '__builtins__': <module '__builtin__' (built-in)>,\n",
       " '__doc__': 'Automatically created module for IPython interactive environment',\n",
       " '__name__': '__main__',\n",
       " '_dh': [u'C:\\\\Users\\\\Andrei\\\\Dropbox\\\\Python'],\n",
       " '_i': u\"x = 50\\n\\ndef func():\\n    global x\\n    print 'This function is now using the global x!'\\n    print 'Because of global x is: ', x\\n    x = 2\\n    print 'Ran func(), changed global x to', x\\n\\nprint 'Before calling func(), x is: ', x\\nfunc()\\nprint 'Value of x (outside of func()) is: ', x\",\n",
       " '_i1': u'x = 25\\n\\ndef printer():\\n    x = 50\\n    return x\\n\\nprint x\\nprint printer()',\n",
       " '_i10': u\"name = 'This is a global name'\\n\\ndef greet():\\n    # Enclosing function\\n    # name = 'Test'\\n    \\n    def hello():\\n        print 'Hello '+name\\n    \\n    hello()\\n\\ngreet()\",\n",
       " '_i11': u'print name',\n",
       " '_i12': u\"name = 'This is a global name'\\n\\ndef greet():\\n    # Enclosing function\\n    name = 'Test'\\n    \\n    def hello():\\n        print 'Hello '+name\\n    \\n    hello()\\n\\ngreet()\",\n",
       " '_i13': u\"name = 'This is a global name'\\n\\ndef greet():\\n    # Enclosing function\\n    name = 'Test'\\n    \\n    def hello():\\n        print 'Hello '+name\\n    \\n    hello()\\n\\ngreet()\",\n",
       " '_i14': u\"name = 'This is a global name'\\n\\ndef greet():\\n    # Enclosing function\\n    #name = 'Test'\\n    \\n    def hello():\\n        print 'Hello '+name\\n    \\n    hello()\\n\\ngreet()\",\n",
       " '_i15': u\"name = 'This is a global name'\\n\\ndef greet():\\n    # Enclosing function\\n    name = 'Test'\\n    \\n    def hello():\\n        print 'Hello '+name\\n    \\n    hello()\\n\\ngreet()\",\n",
       " '_i16': u\"name = 'This is a global name'\\n\\ndef greet():\\n    # Enclosing function\\n    print name\\n    name = 'Test'\\n    \\n    def hello():\\n        print 'Hello '+name\\n    \\n    hello()\\n\\ngreet()\",\n",
       " '_i17': u\"\\nx = 50\\n\\ndef func(x):\\n    print 'x is', x\\n    x = 2\\n    print 'Changed local x to', x\\n\\nfunc(x)\\nprint 'x is still', x\",\n",
       " '_i18': u\"x = 50\\n\\ndef func():\\n    global x\\n    print 'This function is now using the global x!'\\n    print 'Because of global x is: ', x\\n    x = 2\\n    print 'Ran func(), changed global x to', x\\n\\nprint 'Before calling func(), x is: ', x\\nfunc()\\nprint 'Value of x (outside of func()) is: ', x\",\n",
       " '_i19': u'globals()',\n",
       " '_i2': u'x = 25\\n\\ndef printer():\\n    print x\\n    x = 50\\n    return x\\n\\nprint x\\nprint printer()',\n",
       " '_i3': u'x = 25\\n\\ndef printer():\\n    print global.x\\n    x = 50\\n    return x\\n\\nprint x\\nprint printer()',\n",
       " '_i4': u'x = 25\\n\\ndef printer():\\n    print global(x)\\n    x = 50\\n    return x\\n\\nprint x\\nprint printer()',\n",
       " '_i5': u'x = 25\\n\\ndef printer():\\n    print globals.x\\n    x = 50\\n    return x\\n\\nprint x\\nprint printer()',\n",
       " '_i6': u'x = 25\\n\\ndef printer():\\n    x = 50\\n    return x\\n\\nprint x\\nprint printer()',\n",
       " '_i7': u\"name = 'This is a global name'\\n\\ndef greet():\\n    # Enclosing function\\n    name = 'Sammy'\\n    \\n    def hello():\\n        print 'Hello '+name\\n    \\n    hello()\\n\\ngreet()\",\n",
       " '_i8': u\"name = 'This is a global name'\\n\\ndef greet():\\n    # Enclosing function\\n    name = 'Test'\\n    \\n    def hello():\\n        print 'Hello '+name\\n    \\n    hello()\\n\\ngreet()\",\n",
       " '_i9': u'print name',\n",
       " '_ih': ['',\n",
       "  u'x = 25\\n\\ndef printer():\\n    x = 50\\n    return x\\n\\nprint x\\nprint printer()',\n",
       "  u'x = 25\\n\\ndef printer():\\n    print x\\n    x = 50\\n    return x\\n\\nprint x\\nprint printer()',\n",
       "  u'x = 25\\n\\ndef printer():\\n    print global.x\\n    x = 50\\n    return x\\n\\nprint x\\nprint printer()',\n",
       "  u'x = 25\\n\\ndef printer():\\n    print global(x)\\n    x = 50\\n    return x\\n\\nprint x\\nprint printer()',\n",
       "  u'x = 25\\n\\ndef printer():\\n    print globals.x\\n    x = 50\\n    return x\\n\\nprint x\\nprint printer()',\n",
       "  u'x = 25\\n\\ndef printer():\\n    x = 50\\n    return x\\n\\nprint x\\nprint printer()',\n",
       "  u\"name = 'This is a global name'\\n\\ndef greet():\\n    # Enclosing function\\n    name = 'Sammy'\\n    \\n    def hello():\\n        print 'Hello '+name\\n    \\n    hello()\\n\\ngreet()\",\n",
       "  u\"name = 'This is a global name'\\n\\ndef greet():\\n    # Enclosing function\\n    name = 'Test'\\n    \\n    def hello():\\n        print 'Hello '+name\\n    \\n    hello()\\n\\ngreet()\",\n",
       "  u'print name',\n",
       "  u\"name = 'This is a global name'\\n\\ndef greet():\\n    # Enclosing function\\n    # name = 'Test'\\n    \\n    def hello():\\n        print 'Hello '+name\\n    \\n    hello()\\n\\ngreet()\",\n",
       "  u'print name',\n",
       "  u\"name = 'This is a global name'\\n\\ndef greet():\\n    # Enclosing function\\n    name = 'Test'\\n    \\n    def hello():\\n        print 'Hello '+name\\n    \\n    hello()\\n\\ngreet()\",\n",
       "  u\"name = 'This is a global name'\\n\\ndef greet():\\n    # Enclosing function\\n    name = 'Test'\\n    \\n    def hello():\\n        print 'Hello '+name\\n    \\n    hello()\\n\\ngreet()\",\n",
       "  u\"name = 'This is a global name'\\n\\ndef greet():\\n    # Enclosing function\\n    #name = 'Test'\\n    \\n    def hello():\\n        print 'Hello '+name\\n    \\n    hello()\\n\\ngreet()\",\n",
       "  u\"name = 'This is a global name'\\n\\ndef greet():\\n    # Enclosing function\\n    name = 'Test'\\n    \\n    def hello():\\n        print 'Hello '+name\\n    \\n    hello()\\n\\ngreet()\",\n",
       "  u\"name = 'This is a global name'\\n\\ndef greet():\\n    # Enclosing function\\n    print name\\n    name = 'Test'\\n    \\n    def hello():\\n        print 'Hello '+name\\n    \\n    hello()\\n\\ngreet()\",\n",
       "  u\"\\nx = 50\\n\\ndef func(x):\\n    print 'x is', x\\n    x = 2\\n    print 'Changed local x to', x\\n\\nfunc(x)\\nprint 'x is still', x\",\n",
       "  u\"x = 50\\n\\ndef func():\\n    global x\\n    print 'This function is now using the global x!'\\n    print 'Because of global x is: ', x\\n    x = 2\\n    print 'Ran func(), changed global x to', x\\n\\nprint 'Before calling func(), x is: ', x\\nfunc()\\nprint 'Value of x (outside of func()) is: ', x\",\n",
       "  u'globals()'],\n",
       " '_ii': u\"\\nx = 50\\n\\ndef func(x):\\n    print 'x is', x\\n    x = 2\\n    print 'Changed local x to', x\\n\\nfunc(x)\\nprint 'x is still', x\",\n",
       " '_iii': u\"name = 'This is a global name'\\n\\ndef greet():\\n    # Enclosing function\\n    print name\\n    name = 'Test'\\n    \\n    def hello():\\n        print 'Hello '+name\\n    \\n    hello()\\n\\ngreet()\",\n",
       " '_oh': {},\n",
       " '_sh': <module 'IPython.core.shadowns' from 'C:\\Anaconda2\\lib\\site-packages\\IPython\\core\\shadowns.pyc'>,\n",
       " 'exit': <IPython.core.autocall.ZMQExitAutocall at 0x38d5710>,\n",
       " 'func': <function __main__.func>,\n",
       " 'get_ipython': <bound method ZMQInteractiveShell.get_ipython of <ipykernel.zmqshell.ZMQInteractiveShell object at 0x00000000038D5A90>>,\n",
       " 'greet': <function __main__.greet>,\n",
       " 'name': 'This is a global name',\n",
       " 'printer': <function __main__.printer>,\n",
       " 'quit': <IPython.core.autocall.ZMQExitAutocall at 0x38d5710>,\n",
       " 'x': 2}"
      ]
     },
     "execution_count": 19,
     "metadata": {},
     "output_type": "execute_result"
    }
   ],
   "source": [
    "globals()"
   ]
  },
  {
   "cell_type": "code",
   "execution_count": null,
   "metadata": {
    "collapsed": true
   },
   "outputs": [],
   "source": []
  }
 ],
 "metadata": {
  "kernelspec": {
   "display_name": "Python 2",
   "language": "python",
   "name": "python2"
  },
  "language_info": {
   "codemirror_mode": {
    "name": "ipython",
    "version": 2
   },
   "file_extension": ".py",
   "mimetype": "text/x-python",
   "name": "python",
   "nbconvert_exporter": "python",
   "pygments_lexer": "ipython2",
   "version": "2.7.11"
  }
 },
 "nbformat": 4,
 "nbformat_minor": 0
}
