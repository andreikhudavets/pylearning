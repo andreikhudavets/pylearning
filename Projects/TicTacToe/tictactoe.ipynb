{
 "cells": [
  {
   "cell_type": "markdown",
   "metadata": {},
   "source": [
    "### ToDo List\n",
    "\n",
    "* (Done) Print help text \n",
    "* (Done) Print game field\n",
    "* Print game notification field\n",
    "* Game cycle\n",
    "* Capture user input\n",
    "* Function to print characters inside field\n",
    "* Function to update game notification field\n",
    "* Show current selection by blinking coursor\n",
    "* Manage game state\n",
    "  - Next move (user name)\n",
    "  - Draw\n",
    "  - Win (user name)\n",
    "* Handle user input\n",
    "  - Movement (left, right, up, down)\n",
    "    - Function to find next empy cell according to move\n",
    "  - Enter\n",
    "    - Function to check whever current gamer wins\n",
    "    - Function to check is there a draw\n",
    "    - Switch game state to next user\n",
    "  - Exit Game\n",
    "    - Exit app\n",
    "  - Next Game\n",
    "    - Change First Player\n"
   ]
  },
  {
   "cell_type": "markdown",
   "metadata": {},
   "source": [
    "### Functions"
   ]
  },
  {
   "cell_type": "code",
   "execution_count": 16,
   "metadata": {
    "collapsed": false
   },
   "outputs": [],
   "source": [
    "# CONSTANTS\n",
    "CONST_STATE_EXIT = 0\n",
    "CONST_STATE_START = 1"
   ]
  },
  {
   "cell_type": "code",
   "execution_count": 17,
   "metadata": {
    "collapsed": false
   },
   "outputs": [],
   "source": [
    "import sys\n",
    "import terminalsize\n",
    "def print_game_help():\n",
    "    print '''\n",
    "Welcome to Tic-Tac-Toe (c) Andrei Khudavets, 2015\n",
    "\"Enter\" or \"Space\" | \"N\"      | Ctrl-C    | Arrow Keys\n",
    "make a move        | new game | Exit Game | Select cell\n",
    "    '''\n",
    "def go_to_cell(game_matrix, x, y):\n",
    "    '''\n",
    "    Move cursor to specified position of game matrix\n",
    "    Arguments:\n",
    "        game_matrix\n",
    "        x - x position in matrix\n",
    "        y - y position in matrix\n",
    "    Return: none\n",
    "    '''\n",
    "    sys.stdout.write(\"\\033[{};{}H\".format(game_matrix[y][y]['y'],game_matrix[x][x]['x']))\n",
    "    sys.stdout.flush()\n",
    "def reset_screen():\n",
    "    '''\n",
    "    Flush screen and move cursor to 0, 0\n",
    "    Input: none\n",
    "    Return: none\n",
    "    '''\n",
    "    sys.stdout.write(\"\\033[2J\")\n",
    "    sys.stdout.write(\"\\033[0;0H\")\n",
    "    sys.stdout.flush()\n",
    "def print_game_field():\n",
    "    '''\n",
    "    Function prints game field.\n",
    "    Arguments: none\n",
    "    Return: \n",
    "        game_matrix - array with screen coordinates\n",
    "    '''\n",
    "    cols, rows = terminalsize.get_terminal_size()\n",
    "    start_x = cols/2-5\n",
    "    start_y = rows/2-5\n",
    "    sys.stdout.write(\"\\033[{}H\".format(start_y))\n",
    "    sys.stdout.write(\"\\033[{}G   |   |   \\n\".format(start_x))\n",
    "    sys.stdout.write(\"\\033[{}G---+---+---\\n\".format(start_x))\n",
    "    sys.stdout.write(\"\\033[{}G   |   |   \\n\".format(start_x))\n",
    "    sys.stdout.write(\"\\033[{}G---+---+---\\n\".format(start_x))\n",
    "    sys.stdout.write(\"\\033[{}G   |   |   \\n\".format(start_x))\n",
    "    sys.stdout.flush()\n",
    "    \n",
    "    game_matrix = []\n",
    "    for x in range(3):\n",
    "        game_matrix.append([])\n",
    "        for y in range(3):\n",
    "            game_matrix[x].append({'x':(start_x+1+x*4),'y':(start_y+y*2)})\n",
    "    \n",
    "    return game_matrix\n",
    "\n",
    "def print_notification(text):\n",
    "    '''\n",
    "    Function prints notification about current game status.\n",
    "    Input: \n",
    "        text - text string\n",
    "    Return: none\n",
    "    '''\n",
    "    cols, rows = terminalsize.get_terminal_size()\n",
    "    sys.stdout.write(\"\\033[{};{}H\".format(rows,0))\n",
    "    sys.stdout.write(text)\n",
    "    sys.stdout.flush()\n",
    "\n",
    "    "
   ]
  },
  {
   "cell_type": "markdown",
   "metadata": {},
   "source": [
    "### Game Code"
   ]
  },
  {
   "cell_type": "code",
   "execution_count": 16,
   "metadata": {
    "collapsed": false
   },
   "outputs": [
    {
     "data": {
      "text/plain": [
       "[0, 1, 2]"
      ]
     },
     "execution_count": 16,
     "metadata": {},
     "output_type": "execute_result"
    }
   ],
   "source": []
  },
  {
   "cell_type": "code",
   "execution_count": 19,
   "metadata": {
    "collapsed": false
   },
   "outputs": [
    {
     "name": "stdout",
     "output_type": "stream",
     "text": [
      "\u001b[2J\u001b[0;0H\n",
      "Welcome to Tic-Tac-Toe (c) Andrei Khudavets, 2015\n",
      "\"Enter\" or \"Space\" | \"N\"      | Ctrl-C    | Arrow Keys\n",
      "make a move        | new game | Exit Game | Select cell\n",
      "    \n",
      "\u001b[7H\u001b[35G   |   |   \n",
      "\u001b[35G---+---+---\n",
      "\u001b[35G   |   |   \n",
      "\u001b[35G---+---+---\n",
      "\u001b[35G   |   |   \n",
      "\u001b[24;0HPlayer1 (x), please make a move.\u001b[11;44H"
     ]
    }
   ],
   "source": [
    "import time\n",
    "import getch\n",
    "\n",
    "reset_screen()\n",
    "\n",
    "print_game_help()\n",
    "\n",
    "game_matrix = print_game_field()\n",
    "\n",
    "game_state = CONST_STATE_START\n",
    "\n",
    "while (game_state != CONST_STATE_EXIT):\n",
    "    #Capture user input\n",
    "    command = getch.getch()\n",
    "    print_notification(\"Player1 (x), please make a move.\")\n",
    "    go_to_cell(game_matrix, 2,2)\n",
    "    #sys.stdout.write(command)\n",
    "    #sys.stdout.flush()\n",
    "    time.sleep(5)\n",
    "    game_state = CONST_STATE_EXIT"
   ]
  },
  {
   "cell_type": "code",
   "execution_count": null,
   "metadata": {
    "collapsed": false
   },
   "outputs": [],
   "source": []
  },
  {
   "cell_type": "code",
   "execution_count": null,
   "metadata": {
    "collapsed": false
   },
   "outputs": [],
   "source": []
  },
  {
   "cell_type": "code",
   "execution_count": null,
   "metadata": {
    "collapsed": false
   },
   "outputs": [],
   "source": [
    "\n",
    "\n"
   ]
  },
  {
   "cell_type": "code",
   "execution_count": null,
   "metadata": {
    "collapsed": true
   },
   "outputs": [],
   "source": []
  }
 ],
 "metadata": {
  "kernelspec": {
   "display_name": "Python 2",
   "language": "python",
   "name": "python2"
  },
  "language_info": {
   "codemirror_mode": {
    "name": "ipython",
    "version": 2
   },
   "file_extension": ".py",
   "mimetype": "text/x-python",
   "name": "python",
   "nbconvert_exporter": "python",
   "pygments_lexer": "ipython2",
   "version": "2.7.11"
  }
 },
 "nbformat": 4,
 "nbformat_minor": 0
}
