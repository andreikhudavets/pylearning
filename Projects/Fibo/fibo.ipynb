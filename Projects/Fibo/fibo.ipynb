{
 "cells": [
  {
   "cell_type": "markdown",
   "metadata": {},
   "source": [
    "Fibonacci Sequence"
   ]
  },
  {
   "cell_type": "code",
   "execution_count": 6,
   "metadata": {
    "collapsed": false
   },
   "outputs": [
    {
     "name": "stdout",
     "output_type": "stream",
     "text": [
      "Please, enter limits: count=<N> or value=<N> or 'e' for exite\n"
     ]
    }
   ],
   "source": [
    "\"\"\"\n",
    "Enter a number and have the program generate the Fibonacci sequence to that number or to the Nth number.\n",
    "\"\"\"\n",
    "def fibo():\n",
    "    (x1, x2) = (0, 1)\n",
    "    while True:\n",
    "        yield x1\n",
    "        (x1, x2) = (x2, x1+x2)\n",
    "\n",
    "while True:\n",
    "    (max_value, max_index) = (0, 0)\n",
    "    user_string = raw_input(\"Please, enter limits: count=<N> or value=<N> or 'e' for exit\")\n",
    "    try:\n",
    "        if user_string == 'e':\n",
    "            break\n",
    "        (command, number) = user_string.split('=')\n",
    "        if command == \"count\":\n",
    "            max_index = int(number)\n",
    "        elif command == \"value\":\n",
    "            max_value = int(number)\n",
    "        else:\n",
    "            continue\n",
    "    except:\n",
    "        continue\n",
    "    else:\n",
    "        for (i, f) in enumerate(fibo()):\n",
    "            if ((i > max_index and max_index > 0) or (f > max_value and max_value >0) or (max_index <=0 and max_value <=0)):\n",
    "                break\n",
    "            print f\n"
   ]
  },
  {
   "cell_type": "code",
   "execution_count": null,
   "metadata": {
    "collapsed": true
   },
   "outputs": [],
   "source": []
  }
 ],
 "metadata": {
  "kernelspec": {
   "display_name": "Python 2",
   "language": "python",
   "name": "python2"
  },
  "language_info": {
   "codemirror_mode": {
    "name": "ipython",
    "version": 2
   },
   "file_extension": ".py",
   "mimetype": "text/x-python",
   "name": "python",
   "nbconvert_exporter": "python",
   "pygments_lexer": "ipython2",
   "version": "2.7.11"
  }
 },
 "nbformat": 4,
 "nbformat_minor": 0
}
