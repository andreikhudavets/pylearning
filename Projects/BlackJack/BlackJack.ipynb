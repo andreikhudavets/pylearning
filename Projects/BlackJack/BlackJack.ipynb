{
 "cells": [
  {
   "cell_type": "markdown",
   "metadata": {
    "collapsed": false
   },
   "source": [
    "0. Ask player how moch money he wants to spend\n",
    "1. Give 2 cards to player\n",
    "2. Give 2 cards to dealer, but show 1\n",
    "3. Player can do one of the following\n",
    "    - Hit to receive another card(then dealer will continue)\n",
    "        - Player can bust and loose in this case\n",
    "        - Or he can receive a blackjack and wins 1.5 of initial bet\n",
    "    - Stand to stand with current hand total\n",
    "    - Pay insurance if dealer has an A\n",
    "    - Choose cost of A (1 or 11)\n",
    "    - Split if there are two same cards - bet be added to this hand (each hand will receive another card)\n",
    "    - Double Down (receive one an only one new card) can be allowed for certain total (9-11)\n",
    "4. Dealer draw hands until he has 17 or higher and then he does not allowed to draw more cards\n",
    "5. Possible results\n",
    "    - Dealer Wins (bet goes to the bank)\n",
    "    - Player Wins (get original bet)\n",
    "    - Push (bet is returned)\n",
    "    - If no more money in bank - game over"
   ]
  },
  {
   "cell_type": "code",
   "execution_count": 42,
   "metadata": {
    "collapsed": false
   },
   "outputs": [],
   "source": [
    "#---------------COMMANDS THAT CAN BE RUN ON THE HAND---------------------------------------\n",
    "class Command(object):\n",
    "    \"\"\"\n",
    "    Abstract class\n",
    "    activation_str  - must return key user need to press in order to activate this command\n",
    "    description - must return string describing effect of this operation\n",
    "    \"\"\"\n",
    "    def __str__(self):\n",
    "        return self.activation_str + \": \" + self.description\n",
    "    def __repr__(self):\n",
    "        return self.__str__()\n",
    "        \n",
    "\n",
    "class CommandExit(Command):\n",
    "    def __init__(self):\n",
    "        self.activation_str = \"e\"\n",
    "        self.description = \"exit game\"\n",
    "\n",
    "class CommandNewGame(Command):\n",
    "    def __init__(self):\n",
    "        self.activation_str = \"n\"\n",
    "        self.description = \"new game\"\n",
    "\n",
    "class CommandHit(Command):\n",
    "    def __init__(self):\n",
    "        self.activation_str = \"h\"\n",
    "        self.description = \"hit - one more card\"\n",
    "\n",
    "class CommandInsurance(Command):\n",
    "    def __init__(self):\n",
    "        self.activation_str = \"i\"\n",
    "        self.description = \"pay insurance\"\n",
    "\n",
    "class CommandChangeACost(Command):\n",
    "    def __init__(self):\n",
    "        self.activation_str = \"a\"\n",
    "        self.description = \"change cost of A\"\n",
    "\n",
    "class CommandSplit(Command):\n",
    "    def __init__(self):\n",
    "        self.activation_str = \"s\"\n",
    "        self.description = \"split hands\"\n",
    "\n",
    "class CommandDoubleDown(Command):\n",
    "    def __init__(self):\n",
    "        self.activation_str = \"d\"\n",
    "        self.description = \"double down\"\n",
    "\n"
   ]
  },
  {
   "cell_type": "code",
   "execution_count": 5,
   "metadata": {
    "collapsed": true
   },
   "outputs": [],
   "source": [
    "#------------------------------EXCEPTIONS-----------------------------------------------------\n",
    "class InvalidInput(Exception):\n",
    "    pass\n",
    "\n",
    "class DeckIsEmpty(Exception):\n",
    "    pass"
   ]
  },
  {
   "cell_type": "code",
   "execution_count": 52,
   "metadata": {
    "collapsed": true
   },
   "outputs": [],
   "source": [
    "#----------------------------CLASS DECK------------------------------------------------------\n",
    "import random\n",
    "class Deck(object):\n",
    "    downcard = u'\\U0001f0a0'\n",
    "    def __init__(self):\n",
    "        self.cards = [(u'\\U0001f0a1',11), (u'\\U0001f0a2',2), (u'\\U0001f0a3',3), (u'\\U0001f0a4',4), (u'\\U0001f0a5',5), (u'\\U0001f0a6',6), (u'\\U0001f0a7',7), (u'\\U0001f0a8',8), (u'\\U0001f0a9',9), (u'\\U0001f0aa',10), (u'\\U0001f0ab',10), (u'\\U0001f0ac',10), (u'\\U0001f0ad',10), (u'\\U0001f0ae',10),\n",
    "                      (u'\\U0001f0b1',11), (u'\\U0001f0b2',2), (u'\\U0001f0b3',3), (u'\\U0001f0b4',4), (u'\\U0001f0b5',5), (u'\\U0001f0b6',6), (u'\\U0001f0b7',7), (u'\\U0001f0b8',8), (u'\\U0001f0b9',9), (u'\\U0001f0ba',10), (u'\\U0001f0bb',10), (u'\\U0001f0bc',10), (u'\\U0001f0bd',10), (u'\\U0001f0be',10),\n",
    "                      (u'\\U0001f0c1',11), (u'\\U0001f0c2',2), (u'\\U0001f0c3',3), (u'\\U0001f0c4',4), (u'\\U0001f0c5',5), (u'\\U0001f0c6',6), (u'\\U0001f0c7',7), (u'\\U0001f0c8',8), (u'\\U0001f0c9',9), (u'\\U0001f0ca',10), (u'\\U0001f0cb',10), (u'\\U0001f0cc',10), (u'\\U0001f0cd',10), (u'\\U0001f0ce',10),\n",
    "                      (u'\\U0001f0d1',11), (u'\\U0001f0d2',2), (u'\\U0001f0d3',3), (u'\\U0001f0d4',4), (u'\\U0001f0d5',5), (u'\\U0001f0d6',6), (u'\\U0001f0d7',7), (u'\\U0001f0d8',8), (u'\\U0001f0d9',9), (u'\\U0001f0da',10), (u'\\U0001f0db',10), (u'\\U0001f0dc',10), (u'\\U0001f0dd',10), (u'\\U0001f0de',10)\n",
    "                     ]\n",
    "        random.seed()\n",
    "    def next_card(self):\n",
    "        if len(self.cards) == 0:\n",
    "            raise DeckIsEmpty(\"Deck is empty.\")\n",
    "        card = random.randint(0, len(self.cards)-1)\n",
    "        return self.cards.pop(card)"
   ]
  },
  {
   "cell_type": "code",
   "execution_count": 97,
   "metadata": {
    "collapsed": true
   },
   "outputs": [],
   "source": [
    "#----------------------------CLASS HAND------------------------------------------------------\n",
    "class Hand(object):\n",
    "    def __init__(self, cards =[]):\n",
    "        self.cards = cards\n",
    "    def add_card (self, card):\n",
    "        self.cards.append(card)\n",
    "    def get_value (self):\n",
    "        return sum([x[1] for x in self.cards])\n",
    "    def __unicode__ (self):\n",
    "        return ''.join([c[0] for c in self.cards]) + '({})'.format(str(self.get_value()))\n",
    "    def __str__(self):\n",
    "        return unicode(self).encode('utf-8')"
   ]
  },
  {
   "cell_type": "code",
   "execution_count": 101,
   "metadata": {
    "collapsed": false
   },
   "outputs": [
    {
     "name": "stdout",
     "output_type": "stream",
     "text": [
      "🃌🃅(15)\n"
     ]
    }
   ],
   "source": [
    "d = Deck()\n",
    "h = Hand([d.next_card(), d.next_card()])\n",
    "print h\n"
   ]
  },
  {
   "cell_type": "code",
   "execution_count": 9,
   "metadata": {
    "collapsed": false
   },
   "outputs": [],
   "source": [
    "from IPython.display import clear_output\n",
    "\n",
    "\n",
    "\n",
    "class Player(object):\n",
    "    pass\n",
    "\n",
    "class Dealer(object):\n",
    "    pass\n",
    "\n",
    "class BlackJack(object):\n",
    "    STATE_NEW_GAME = 0\n",
    "    STATE_GAME_OVER = 1\n",
    "    STATE_PLAYER_HAND = 2\n",
    "    STATE_DEALER_HAND = 3\n",
    "    \n",
    "    def __init__(self):\n",
    "        self.reset_game()\n",
    "    \n",
    "    def start(self):\n",
    "        while True:\n",
    "            clear_output()            \n",
    "            if self.game_state == BlackJack.STATE_GAME_OVER:\n",
    "                break\n",
    "                \n",
    "            #self.print_game_info()\n",
    "            \n",
    "            #Interaction with user\n",
    "            print self.available_commands\n",
    "            while True:\n",
    "                user_input = raw_input(\"Please enter command:\")    \n",
    "                try:\n",
    "                    self.execute_command(user_input)\n",
    "                except (InvalidInput):\n",
    "                    print \"Sorry, unknown command \", user_input\n",
    "                    continue\n",
    "                else:\n",
    "                    break\n",
    "            \n",
    "    def execute_command(self, user_input):\n",
    "        for command in self.available_commands:\n",
    "            if command.activation_str != user_input:\n",
    "                continue\n",
    "            if type(command) == CommandExit:\n",
    "                self.game_state = BlackJack.STATE_GAME_OVER\n",
    "                return\n",
    "            elif type(command) == CommandNewGame:\n",
    "                self.reset_game()\n",
    "                return\n",
    "        raise InvalidInput(\"Unknown command\")\n",
    "        \n",
    "    def reset_game(self):\n",
    "        self.available_commands = [CommandExit(),CommandNewGame()]\n",
    "        self.dealer = Dealer()\n",
    "        self.player = Player()\n",
    "        self.game_state = BlackJack.STATE_PLAYER_HAND\n",
    "    \n",
    "    \n",
    "    \n",
    "    def print_game_info(self):\n",
    "        print self.player.name, \", your bank is ${\\d}\" % self.player.bank \n",
    "        print \"Dealer hand:\"\n",
    "        for hand in self.player.hands:\n",
    "            print \"Your hand: \", hand\n",
    "        "
   ]
  },
  {
   "cell_type": "code",
   "execution_count": 4,
   "metadata": {
    "collapsed": false
   },
   "outputs": [
    {
     "name": "stdout",
     "output_type": "stream",
     "text": [
      "Automatic pdb calling has been turned OFF\n"
     ]
    }
   ],
   "source": [
    "%pdb"
   ]
  },
  {
   "cell_type": "code",
   "execution_count": null,
   "metadata": {
    "collapsed": true
   },
   "outputs": [],
   "source": []
  }
 ],
 "metadata": {
  "kernelspec": {
   "display_name": "Python 2",
   "language": "python",
   "name": "python2"
  },
  "language_info": {
   "codemirror_mode": {
    "name": "ipython",
    "version": 2
   },
   "file_extension": ".py",
   "mimetype": "text/x-python",
   "name": "python",
   "nbconvert_exporter": "python",
   "pygments_lexer": "ipython2",
   "version": "2.7.11"
  }
 },
 "nbformat": 4,
 "nbformat_minor": 0
}
