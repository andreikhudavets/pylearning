{
 "cells": [
  {
   "cell_type": "markdown",
   "metadata": {},
   "source": [
    "#Errors and Exceptions Homework - "
   ]
  },
  {
   "cell_type": "markdown",
   "metadata": {},
   "source": [
    "###Problem 1\n",
    "Handle the exception thrown by the code below by using try and except blocks."
   ]
  },
  {
   "cell_type": "code",
   "execution_count": 3,
   "metadata": {
    "collapsed": false
   },
   "outputs": [
    {
     "name": "stdout",
     "output_type": "stream",
     "text": [
      "Non-numeric item\n",
      "Non-numeric item\n",
      "Non-numeric item\n"
     ]
    }
   ],
   "source": [
    "for i in ['a','b','c']:\n",
    "    try:\n",
    "        print i**2\n",
    "    except:\n",
    "        print \"Non-numeric item\""
   ]
  },
  {
   "cell_type": "markdown",
   "metadata": {},
   "source": [
    "###Problem 2\n",
    "Handle the exception thrown by the code below by using **try** and **except** blocks. Then use a **finally** block to print 'All Done.'"
   ]
  },
  {
   "cell_type": "code",
   "execution_count": 5,
   "metadata": {
    "collapsed": false
   },
   "outputs": [
    {
     "name": "stdout",
     "output_type": "stream",
     "text": [
      "All done!\n",
      "0\n"
     ]
    }
   ],
   "source": [
    "x = 5\n",
    "y = 0\n",
    "try:\n",
    "    z = x/y\n",
    "except:\n",
    "    z = 0\n",
    "finally:\n",
    "    print \"All done!\"\n",
    "print z"
   ]
  },
  {
   "cell_type": "markdown",
   "metadata": {},
   "source": [
    "###Problem 3\n",
    "Write a function that asks for an integer and prints the square of it. Use a while loop with a try,except, else block to account for incorrect inputs."
   ]
  },
  {
   "cell_type": "code",
   "execution_count": 9,
   "metadata": {
    "collapsed": false
   },
   "outputs": [],
   "source": [
    "def ask():\n",
    "    while True:\n",
    "        try:\n",
    "            x = int(raw_input(\"Please enter an integer: \"))\n",
    "        except:\n",
    "            print \"You've entered something wrong. Please try again.\"\n",
    "            continue\n",
    "        else:\n",
    "            print \"Thank you, the number squared is: %d\" % (x**2)\n",
    "            break\n",
    "    \n",
    "        "
   ]
  },
  {
   "cell_type": "code",
   "execution_count": 13,
   "metadata": {
    "collapsed": false
   },
   "outputs": [
    {
     "name": "stdout",
     "output_type": "stream",
     "text": [
      "Please enter an integer: te\n",
      "You've entered something wrong. Please try again.\n",
      "Please enter an integer: re\n",
      "You've entered something wrong. Please try again.\n",
      "Please enter an integer: dfs\n",
      "You've entered something wrong. Please try again.\n",
      "Please enter an integer: sdf\n",
      "You've entered something wrong. Please try again.\n",
      "Please enter an integer: 6\n",
      "Thank you, the number squared is: 36\n"
     ]
    }
   ],
   "source": [
    "ask()"
   ]
  },
  {
   "cell_type": "markdown",
   "metadata": {},
   "source": [
    "#Great Job!"
   ]
  }
 ],
 "metadata": {
  "kernelspec": {
   "display_name": "Python 2",
   "language": "python",
   "name": "python2"
  },
  "language_info": {
   "codemirror_mode": {
    "name": "ipython",
    "version": 2
   },
   "file_extension": ".py",
   "mimetype": "text/x-python",
   "name": "python",
   "nbconvert_exporter": "python",
   "pygments_lexer": "ipython2",
   "version": "2.7.11"
  }
 },
 "nbformat": 4,
 "nbformat_minor": 0
}
